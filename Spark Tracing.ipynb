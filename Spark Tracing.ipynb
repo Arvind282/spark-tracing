{
 "cells": [
  {
   "cell_type": "code",
   "execution_count": null,
   "metadata": {
    "collapsed": false,
    "deletable": true,
    "editable": true
   },
   "outputs": [],
   "source": [
    "import pandas as pd\n",
    "import numpy as np\n",
    "import math\n",
    "from IPython.display import display\n",
    "from bokeh.io import show, output_notebook\n",
    "from bokeh.plotting import figure, ColumnDataSource\n",
    "from bokeh.models import HoverTool, ranges\n",
    "output_notebook()"
   ]
  },
  {
   "cell_type": "code",
   "execution_count": null,
   "metadata": {
    "collapsed": false,
    "deletable": true,
    "editable": true
   },
   "outputs": [],
   "source": [
    "def readtrace(fname):\n",
    "    ret = {}\n",
    "    with open(fname, \"r\") as file:\n",
    "        name = None\n",
    "        cols = None\n",
    "        types = None\n",
    "        data = []\n",
    "        for line in file:\n",
    "            line = line.strip()\n",
    "            if line == \"\": continue\n",
    "            elif line == \"%\":\n",
    "                df = pd.DataFrame.from_records(data, columns=cols)\n",
    "                for i, col in enumerate(df.columns.values):\n",
    "                    if types[i] == \"num\": df[col] = pd.to_numeric(df[col])\n",
    "                    elif types[i] == \"time\": df[col] = pd.to_datetime(df[col], unit=\"ms\")\n",
    "                ret[name] = df\n",
    "                name = None\n",
    "                cols = None\n",
    "                types = None\n",
    "                data = []\n",
    "            elif name is None: name = line\n",
    "            elif cols is None: cols = line.split(\"\\t\")\n",
    "            elif types is None: types = line.split(\"\\t\")\n",
    "            else: data.append(line.split(\"\\t\"))\n",
    "    return ret\n",
    "\n",
    "class reader:\n",
    "    def __init__(self, fname):\n",
    "        self.data = readtrace(fname)\n",
    "    def stats(self):\n",
    "        ret = []\n",
    "        for name in [\"count\", \"dist\"]:\n",
    "            df = self.data[\"stat:\" + name].set_index([\"trace\", \"stat\"])\n",
    "            df.index.names = [None, None]\n",
    "            ret.append(df)\n",
    "        return ret\n",
    "    def seqplot(self):\n",
    "        rpcs = self.data[\"rpcs\"]\n",
    "        events = self.data[\"events\"]\n",
    "        spans = self.data[\"spans\"]\n",
    "        axes = self.data[\"axes\"][\"name\"].tolist()\n",
    "        timerange = self.data[\"timerange\"][\"time\"].tolist()\n",
    "\n",
    "        hover = HoverTool()\n",
    "        hover.tooltips = \"<div style='max-width: 400px; word-wrap: wrap-all'>@content</div>\"\n",
    "        p = figure(y_axis_type=\"datetime\", x_range=axes, tools=[\"ypan\", \"ywheel_zoom\", hover, \"reset\"], active_scroll=\"ywheel_zoom\")\n",
    "        p.segment(y0=\"start\", y1=\"end\", x0=\"location\", x1=\"location\", source=ColumnDataSource(spans), line_width=4, color=\"lime\", alpha=0.6)\n",
    "        p.triangle(\"location\", \"end\", source=ColumnDataSource(spans), size=12, color=\"green\")\n",
    "        p.inverted_triangle(\"location\", \"start\", source=ColumnDataSource(spans), size=8, color=\"lime\")\n",
    "        p.circle(\"origin\", \"time\", size=8, source=ColumnDataSource(rpcs), color=\"blue\")\n",
    "        p.segment(y0=\"time\", y1=\"time\", x0=\"origin\", x1=\"destination\", source=ColumnDataSource(rpcs), color=\"blue\")\n",
    "        p.circle(\"location\", \"time\", size=8, source=ColumnDataSource(events), color=\"red\")\n",
    "        p.y_range = ranges.Range1d(timerange[1], timerange[0])\n",
    "        p.xaxis.major_label_orientation = math.pi/6\n",
    "        p.sizing_mode = \"scale_width\"\n",
    "        p.height = 400\n",
    "        return p\n"
   ]
  },
  {
   "cell_type": "code",
   "execution_count": null,
   "metadata": {
    "collapsed": false,
    "deletable": true,
    "editable": true,
    "scrolled": false
   },
   "outputs": [],
   "source": [
    "trace = reader(\"/tmp/spark-trace.out\")\n",
    "for stat in trace.stats(): display(stat)\n",
    "show(trace.seqplot())"
   ]
  }
 ],
 "metadata": {
  "kernelspec": {
   "display_name": "Python 3",
   "language": "python",
   "name": "python3"
  },
  "language_info": {
   "codemirror_mode": {
    "name": "ipython",
    "version": 3
   },
   "file_extension": ".py",
   "mimetype": "text/x-python",
   "name": "python",
   "nbconvert_exporter": "python",
   "pygments_lexer": "ipython3",
   "version": "3.5.3"
  }
 },
 "nbformat": 4,
 "nbformat_minor": 2
}
